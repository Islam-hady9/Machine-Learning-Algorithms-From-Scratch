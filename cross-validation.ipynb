{
 "cells": [
  {
   "cell_type": "code",
   "execution_count": 1,
   "id": "6d19bde1",
   "metadata": {
    "execution": {
     "iopub.execute_input": "2021-08-13T20:27:02.497965Z",
     "iopub.status.busy": "2021-08-13T20:27:02.496780Z",
     "iopub.status.idle": "2021-08-13T20:27:03.611280Z",
     "shell.execute_reply": "2021-08-13T20:27:03.610544Z",
     "shell.execute_reply.started": "2021-08-13T20:23:35.823796Z"
    },
    "papermill": {
     "duration": 1.137694,
     "end_time": "2021-08-13T20:27:03.611488",
     "exception": false,
     "start_time": "2021-08-13T20:27:02.473794",
     "status": "completed"
    },
    "tags": []
   },
   "outputs": [],
   "source": [
    "#Required Libraries\n",
    "import numpy as np  \n",
    "import pandas as pd\n",
    "from sklearn.model_selection import train_test_split\n",
    "from sklearn.model_selection import KFold\n",
    "from sklearn.model_selection import StratifiedKFold\n",
    "from sklearn import metrics"
   ]
  },
  {
   "cell_type": "code",
   "execution_count": 2,
   "id": "05c07281",
   "metadata": {
    "execution": {
     "iopub.execute_input": "2021-08-13T20:27:03.648817Z",
     "iopub.status.busy": "2021-08-13T20:27:03.648170Z",
     "iopub.status.idle": "2021-08-13T20:27:03.679177Z",
     "shell.execute_reply": "2021-08-13T20:27:03.678563Z",
     "shell.execute_reply.started": "2021-08-13T20:24:11.477519Z"
    },
    "papermill": {
     "duration": 0.051442,
     "end_time": "2021-08-13T20:27:03.679345",
     "exception": false,
     "start_time": "2021-08-13T20:27:03.627903",
     "status": "completed"
    },
    "tags": []
   },
   "outputs": [],
   "source": [
    "#Read dataset\n",
    "data = pd.read_csv('/kaggle/input/diabetes-dataset/diabetes2.csv')\n"
   ]
  },
  {
   "cell_type": "code",
   "execution_count": 3,
   "id": "7028ca13",
   "metadata": {
    "execution": {
     "iopub.execute_input": "2021-08-13T20:27:03.723103Z",
     "iopub.status.busy": "2021-08-13T20:27:03.722399Z",
     "iopub.status.idle": "2021-08-13T20:27:03.749208Z",
     "shell.execute_reply": "2021-08-13T20:27:03.748633Z",
     "shell.execute_reply.started": "2021-08-13T20:24:14.892661Z"
    },
    "papermill": {
     "duration": 0.05453,
     "end_time": "2021-08-13T20:27:03.749403",
     "exception": false,
     "start_time": "2021-08-13T20:27:03.694873",
     "status": "completed"
    },
    "tags": []
   },
   "outputs": [
    {
     "data": {
      "text/html": [
       "<div>\n",
       "<style scoped>\n",
       "    .dataframe tbody tr th:only-of-type {\n",
       "        vertical-align: middle;\n",
       "    }\n",
       "\n",
       "    .dataframe tbody tr th {\n",
       "        vertical-align: top;\n",
       "    }\n",
       "\n",
       "    .dataframe thead th {\n",
       "        text-align: right;\n",
       "    }\n",
       "</style>\n",
       "<table border=\"1\" class=\"dataframe\">\n",
       "  <thead>\n",
       "    <tr style=\"text-align: right;\">\n",
       "      <th></th>\n",
       "      <th>Pregnancies</th>\n",
       "      <th>Glucose</th>\n",
       "      <th>BloodPressure</th>\n",
       "      <th>SkinThickness</th>\n",
       "      <th>Insulin</th>\n",
       "      <th>BMI</th>\n",
       "      <th>DiabetesPedigreeFunction</th>\n",
       "      <th>Age</th>\n",
       "      <th>Outcome</th>\n",
       "    </tr>\n",
       "  </thead>\n",
       "  <tbody>\n",
       "    <tr>\n",
       "      <th>0</th>\n",
       "      <td>6</td>\n",
       "      <td>148</td>\n",
       "      <td>72</td>\n",
       "      <td>35</td>\n",
       "      <td>0</td>\n",
       "      <td>33.6</td>\n",
       "      <td>0.627</td>\n",
       "      <td>50</td>\n",
       "      <td>1</td>\n",
       "    </tr>\n",
       "    <tr>\n",
       "      <th>1</th>\n",
       "      <td>1</td>\n",
       "      <td>85</td>\n",
       "      <td>66</td>\n",
       "      <td>29</td>\n",
       "      <td>0</td>\n",
       "      <td>26.6</td>\n",
       "      <td>0.351</td>\n",
       "      <td>31</td>\n",
       "      <td>0</td>\n",
       "    </tr>\n",
       "    <tr>\n",
       "      <th>2</th>\n",
       "      <td>8</td>\n",
       "      <td>183</td>\n",
       "      <td>64</td>\n",
       "      <td>0</td>\n",
       "      <td>0</td>\n",
       "      <td>23.3</td>\n",
       "      <td>0.672</td>\n",
       "      <td>32</td>\n",
       "      <td>1</td>\n",
       "    </tr>\n",
       "    <tr>\n",
       "      <th>3</th>\n",
       "      <td>1</td>\n",
       "      <td>89</td>\n",
       "      <td>66</td>\n",
       "      <td>23</td>\n",
       "      <td>94</td>\n",
       "      <td>28.1</td>\n",
       "      <td>0.167</td>\n",
       "      <td>21</td>\n",
       "      <td>0</td>\n",
       "    </tr>\n",
       "    <tr>\n",
       "      <th>4</th>\n",
       "      <td>0</td>\n",
       "      <td>137</td>\n",
       "      <td>40</td>\n",
       "      <td>35</td>\n",
       "      <td>168</td>\n",
       "      <td>43.1</td>\n",
       "      <td>2.288</td>\n",
       "      <td>33</td>\n",
       "      <td>1</td>\n",
       "    </tr>\n",
       "  </tbody>\n",
       "</table>\n",
       "</div>"
      ],
      "text/plain": [
       "   Pregnancies  Glucose  BloodPressure  SkinThickness  Insulin   BMI  \\\n",
       "0            6      148             72             35        0  33.6   \n",
       "1            1       85             66             29        0  26.6   \n",
       "2            8      183             64              0        0  23.3   \n",
       "3            1       89             66             23       94  28.1   \n",
       "4            0      137             40             35      168  43.1   \n",
       "\n",
       "   DiabetesPedigreeFunction  Age  Outcome  \n",
       "0                     0.627   50        1  \n",
       "1                     0.351   31        0  \n",
       "2                     0.672   32        1  \n",
       "3                     0.167   21        0  \n",
       "4                     2.288   33        1  "
      ]
     },
     "execution_count": 3,
     "metadata": {},
     "output_type": "execute_result"
    }
   ],
   "source": [
    "data.head()"
   ]
  },
  {
   "cell_type": "code",
   "execution_count": 4,
   "id": "b1621d54",
   "metadata": {
    "execution": {
     "iopub.execute_input": "2021-08-13T20:27:03.795975Z",
     "iopub.status.busy": "2021-08-13T20:27:03.795206Z",
     "iopub.status.idle": "2021-08-13T20:27:03.797942Z",
     "shell.execute_reply": "2021-08-13T20:27:03.798548Z",
     "shell.execute_reply.started": "2021-08-13T20:24:33.636063Z"
    },
    "papermill": {
     "duration": 0.031968,
     "end_time": "2021-08-13T20:27:03.798752",
     "exception": false,
     "start_time": "2021-08-13T20:27:03.766784",
     "status": "completed"
    },
    "tags": []
   },
   "outputs": [
    {
     "data": {
      "text/plain": [
       "0    500\n",
       "1    268\n",
       "Name: Outcome, dtype: int64"
      ]
     },
     "execution_count": 4,
     "metadata": {},
     "output_type": "execute_result"
    }
   ],
   "source": [
    "data.Outcome.value_counts()"
   ]
  },
  {
   "cell_type": "code",
   "execution_count": 5,
   "id": "114ee339",
   "metadata": {
    "execution": {
     "iopub.execute_input": "2021-08-13T20:27:03.835078Z",
     "iopub.status.busy": "2021-08-13T20:27:03.834432Z",
     "iopub.status.idle": "2021-08-13T20:27:03.843253Z",
     "shell.execute_reply": "2021-08-13T20:27:03.844273Z",
     "shell.execute_reply.started": "2021-08-13T20:24:36.645973Z"
    },
    "papermill": {
     "duration": 0.029267,
     "end_time": "2021-08-13T20:27:03.844558",
     "exception": false,
     "start_time": "2021-08-13T20:27:03.815291",
     "status": "completed"
    },
    "tags": []
   },
   "outputs": [
    {
     "name": "stdout",
     "output_type": "stream",
     "text": [
      "(768, 8)\n",
      "(768,)\n"
     ]
    }
   ],
   "source": [
    "#Grab features and label from dataframe\n",
    "x = data[['Pregnancies','Glucose', 'BloodPressure', 'Age', 'SkinThickness', 'Insulin', 'BMI', 'DiabetesPedigreeFunction']].values\n",
    "y = data['Outcome'].values\n",
    "\n",
    "print(x.shape)\n",
    "print(y.shape)"
   ]
  },
  {
   "attachments": {
    "train%20valid%20test.png": {
     "image/png": "[encoded data removed]"
    }
   },
   "cell_type": "markdown",
   "id": "278d0d06",
   "metadata": {
    "papermill": {
     "duration": 0.016742,
     "end_time": "2021-08-13T20:27:03.879025",
     "exception": false,
     "start_time": "2021-08-13T20:27:03.862283",
     "status": "completed"
    },
    "tags": []
   },
   "source": [
    "![train%20valid%20test.png](attachment:train%20valid%20test.png)"
   ]
  },
  {
   "cell_type": "code",
   "execution_count": 6,
   "id": "d84d0a15",
   "metadata": {
    "execution": {
     "iopub.execute_input": "2021-08-13T20:27:03.923720Z",
     "iopub.status.busy": "2021-08-13T20:27:03.922571Z",
     "iopub.status.idle": "2021-08-13T20:27:03.930849Z",
     "shell.execute_reply": "2021-08-13T20:27:03.929962Z",
     "shell.execute_reply.started": "2021-08-13T20:24:43.695222Z"
    },
    "papermill": {
     "duration": 0.033935,
     "end_time": "2021-08-13T20:27:03.931055",
     "exception": false,
     "start_time": "2021-08-13T20:27:03.897120",
     "status": "completed"
    },
    "tags": []
   },
   "outputs": [
    {
     "name": "stdout",
     "output_type": "stream",
     "text": [
      "537\n",
      "116\n",
      "115\n"
     ]
    }
   ],
   "source": [
    "x_train, x_test, y_train, y_test = train_test_split(x, y, test_size = 0.3, random_state = 42)\n",
    "x_valid, x_test, y_valid, y_test = train_test_split(x_test, y_test, test_size = 0.50, random_state = 42)\n",
    "\n",
    "print(len(x_train))\n",
    "print(len(x_test))\n",
    "print(len(x_valid))"
   ]
  },
  {
   "cell_type": "code",
   "execution_count": 7,
   "id": "9699f661",
   "metadata": {
    "execution": {
     "iopub.execute_input": "2021-08-13T20:27:03.984154Z",
     "iopub.status.busy": "2021-08-13T20:27:03.983174Z",
     "iopub.status.idle": "2021-08-13T20:27:03.986917Z",
     "shell.execute_reply": "2021-08-13T20:27:03.986286Z",
     "shell.execute_reply.started": "2021-08-13T20:24:50.552628Z"
    },
    "papermill": {
     "duration": 0.037665,
     "end_time": "2021-08-13T20:27:03.987084",
     "exception": false,
     "start_time": "2021-08-13T20:27:03.949419",
     "status": "completed"
    },
    "tags": []
   },
   "outputs": [],
   "source": [
    "class LogisticRegression:\n",
    "    \n",
    "    def __init__(self, l_rate=0.01, iterations=1000):  \n",
    "        self.l_rate = l_rate  \n",
    "        self.iterations = iterations \n",
    "        \n",
    "    def scale(self, x):  \n",
    "        x_scaled = x - np.mean(x, axis=0)\n",
    "        x_scaled = x_scaled / np.std(x_scaled, axis=0)\n",
    "        return x_scaled\n",
    "    \n",
    "    def fit(self, x, y):  \n",
    "        self.losses = []  \n",
    "        self.theta = np.zeros((1 + x.shape[1])) \n",
    "        n = x.shape[0]\n",
    "        \n",
    "        x = self.scale(x)  \n",
    "                \n",
    "        for i in range(self.iterations):\n",
    "            #Step1\n",
    "            y_pred = self.theta[0] + np.dot(x, self.theta[1:])\n",
    "            z = y_pred\n",
    "            #Step2\n",
    "            g_z =  1 / (1 + np.e**(-z))       \n",
    "            \n",
    "            #Step3\n",
    "            cost = (1/n)*(-y * np.log(g_z) - (1 - y) * np.log(1 - g_z))\n",
    "            self.losses.append(cost) \n",
    "            \n",
    "            #Step4\n",
    "            d_theta1 = (1/n) * np.dot(x.T, (g_z - y)) \n",
    "            d_theta0 = (1/n) * np.sum(g_z - y)  \n",
    "            \n",
    "            #Step5\n",
    "            self.theta[1:] = self.theta[1:] - self.l_rate * d_theta1  \n",
    "            self.theta[0] = self.theta[0] - self.l_rate * d_theta0       \n",
    "        return self\n",
    "    \n",
    "    \n",
    "    def predict(self, x):  \n",
    "        x = self.scale(x)  \n",
    "       \n",
    "        y_pred = self.theta[0] + np.dot(x, self.theta[1:]) \n",
    "        z = y_pred\n",
    "        g_z = 1 / (1 + np.e**(-z))\n",
    "        return [1 if i > 0.4 else 0 for i in g_z] \n",
    "   "
   ]
  },
  {
   "cell_type": "code",
   "execution_count": 8,
   "id": "4a36875a",
   "metadata": {
    "execution": {
     "iopub.execute_input": "2021-08-13T20:27:04.028410Z",
     "iopub.status.busy": "2021-08-13T20:27:04.027696Z",
     "iopub.status.idle": "2021-08-13T20:27:04.209152Z",
     "shell.execute_reply": "2021-08-13T20:27:04.209749Z",
     "shell.execute_reply.started": "2021-08-13T20:24:55.140444Z"
    },
    "papermill": {
     "duration": 0.205386,
     "end_time": "2021-08-13T20:27:04.210007",
     "exception": false,
     "start_time": "2021-08-13T20:27:04.004621",
     "status": "completed"
    },
    "tags": []
   },
   "outputs": [
    {
     "data": {
      "text/plain": [
       "<__main__.LogisticRegression at 0x7efd89bd69d0>"
      ]
     },
     "execution_count": 8,
     "metadata": {},
     "output_type": "execute_result"
    }
   ],
   "source": [
    "model = LogisticRegression()\n",
    "model.fit(x_train, y_train)"
   ]
  },
  {
   "cell_type": "code",
   "execution_count": 9,
   "id": "c080051a",
   "metadata": {
    "execution": {
     "iopub.execute_input": "2021-08-13T20:27:04.253530Z",
     "iopub.status.busy": "2021-08-13T20:27:04.252667Z",
     "iopub.status.idle": "2021-08-13T20:27:04.256243Z",
     "shell.execute_reply": "2021-08-13T20:27:04.255579Z",
     "shell.execute_reply.started": "2021-08-13T20:25:06.118337Z"
    },
    "papermill": {
     "duration": 0.027128,
     "end_time": "2021-08-13T20:27:04.256428",
     "exception": false,
     "start_time": "2021-08-13T20:27:04.229300",
     "status": "completed"
    },
    "tags": []
   },
   "outputs": [
    {
     "name": "stdout",
     "output_type": "stream",
     "text": [
      "thetas=  [-0.64304339  0.18750749  0.80107698 -0.03747003  0.34146402 -0.02341784\n",
      "  0.0351371   0.5501931   0.15759423]\n"
     ]
    }
   ],
   "source": [
    "# print thetas\n",
    "print(\"thetas= \", model.theta)"
   ]
  },
  {
   "cell_type": "code",
   "execution_count": 10,
   "id": "a41b1797",
   "metadata": {
    "execution": {
     "iopub.execute_input": "2021-08-13T20:27:04.297220Z",
     "iopub.status.busy": "2021-08-13T20:27:04.296607Z",
     "iopub.status.idle": "2021-08-13T20:27:04.300992Z",
     "shell.execute_reply": "2021-08-13T20:27:04.300452Z",
     "shell.execute_reply.started": "2021-08-13T20:25:11.063071Z"
    },
    "papermill": {
     "duration": 0.026523,
     "end_time": "2021-08-13T20:27:04.301123",
     "exception": false,
     "start_time": "2021-08-13T20:27:04.274600",
     "status": "completed"
    },
    "tags": []
   },
   "outputs": [],
   "source": [
    "y_pred_train = model.predict(x_train)\n",
    "y_pred_valid = model.predict(x_valid)"
   ]
  },
  {
   "cell_type": "code",
   "execution_count": 11,
   "id": "7c71c27c",
   "metadata": {
    "execution": {
     "iopub.execute_input": "2021-08-13T20:27:04.343146Z",
     "iopub.status.busy": "2021-08-13T20:27:04.341775Z",
     "iopub.status.idle": "2021-08-13T20:27:04.348119Z",
     "shell.execute_reply": "2021-08-13T20:27:04.347470Z",
     "shell.execute_reply.started": "2021-08-13T20:25:14.543210Z"
    },
    "papermill": {
     "duration": 0.02969,
     "end_time": "2021-08-13T20:27:04.348260",
     "exception": false,
     "start_time": "2021-08-13T20:27:04.318570",
     "status": "completed"
    },
    "tags": []
   },
   "outputs": [
    {
     "name": "stdout",
     "output_type": "stream",
     "text": [
      "Training Accuracy is : \n",
      " 0.7653631284916201\n",
      "--------------------------------\n",
      "Validation Accuracy is : \n",
      " 0.6782608695652174\n",
      "--------------------------------\n"
     ]
    }
   ],
   "source": [
    "train_acc =  metrics.accuracy_score(y_train, y_pred_train)\n",
    "valid_acc = metrics.accuracy_score(y_valid, y_pred_valid)  #Learning Algorithm hyper-parameters Tuning\n",
    "\n",
    "print('Training Accuracy is : \\n', train_acc)\n",
    "print('--------------------------------')\n",
    "print('Validation Accuracy is : \\n', valid_acc)\n",
    "print('--------------------------------')"
   ]
  },
  {
   "cell_type": "code",
   "execution_count": 12,
   "id": "bad692a2",
   "metadata": {
    "execution": {
     "iopub.execute_input": "2021-08-13T20:27:04.390680Z",
     "iopub.status.busy": "2021-08-13T20:27:04.389877Z",
     "iopub.status.idle": "2021-08-13T20:27:04.394717Z",
     "shell.execute_reply": "2021-08-13T20:27:04.393682Z",
     "shell.execute_reply.started": "2021-08-13T20:25:17.834291Z"
    },
    "papermill": {
     "duration": 0.028507,
     "end_time": "2021-08-13T20:27:04.394986",
     "exception": false,
     "start_time": "2021-08-13T20:27:04.366479",
     "status": "completed"
    },
    "tags": []
   },
   "outputs": [
    {
     "name": "stdout",
     "output_type": "stream",
     "text": [
      "Testing Accuracy is : \n",
      " 0.7155172413793104\n",
      "--------------------------------\n"
     ]
    }
   ],
   "source": [
    "y_pred_test = model.predict(x_test)  \n",
    "\n",
    "test_acc = metrics.accuracy_score(y_test, y_pred_test)  #Evaluate the learning algorithm performance\n",
    "\n",
    "print('Testing Accuracy is : \\n', test_acc)\n",
    "print('--------------------------------')"
   ]
  },
  {
   "attachments": {
    "crossvalid.png": {
     "image/png": "[encoded data removed]"
    },
    "cv.png": {
     "image/png": "[encoded data removed]"
    }
   },
   "cell_type": "markdown",
   "id": "21b168e7",
   "metadata": {
    "papermill": {
     "duration": 0.018175,
     "end_time": "2021-08-13T20:27:04.433836",
     "exception": false,
     "start_time": "2021-08-13T20:27:04.415661",
     "status": "completed"
    },
    "tags": []
   },
   "source": [
    "![crossvalid.png](attachment:crossvalid.png)\n",
    "\n",
    "\n",
    "![cv.png](attachment:cv.png)"
   ]
  },
  {
   "cell_type": "code",
   "execution_count": 13,
   "id": "b6dbd46d",
   "metadata": {
    "execution": {
     "iopub.execute_input": "2021-08-13T20:27:04.479160Z",
     "iopub.status.busy": "2021-08-13T20:27:04.478456Z",
     "iopub.status.idle": "2021-08-13T20:27:05.273460Z",
     "shell.execute_reply": "2021-08-13T20:27:05.272732Z",
     "shell.execute_reply.started": "2021-08-13T20:25:59.334244Z"
    },
    "papermill": {
     "duration": 0.820448,
     "end_time": "2021-08-13T20:27:05.273629",
     "exception": false,
     "start_time": "2021-08-13T20:27:04.453181",
     "status": "completed"
    },
    "tags": []
   },
   "outputs": [],
   "source": [
    "#evaluation using cross validation\n",
    "num_splits = 5\n",
    "kfold = StratifiedKFold(num_splits, shuffle= True, random_state = 1)\n",
    "train_accs, test_accs = [], []  #create empty lists to store accurcy values\n",
    "for train_index, test_index in kfold.split(x, y):  #Generate indices to split data into training and test set.\n",
    "    x_train, x_test = x[train_index], x[test_index]\n",
    "    y_train, y_test = y[train_index], y[test_index]\n",
    "  \n",
    "    model.fit(x_train, y_train)\n",
    "    y_pred_train = model.predict(x_train)\n",
    "    y_pred_test = model.predict(x_test)\n",
    "    \n",
    "    train_accs.append(metrics.accuracy_score(y_train, y_pred_train) * 100)\n",
    "    test_accs.append(metrics.accuracy_score(y_test, y_pred_test) * 100)\n"
   ]
  },
  {
   "cell_type": "code",
   "execution_count": 14,
   "id": "7047939f",
   "metadata": {
    "execution": {
     "iopub.execute_input": "2021-08-13T20:27:05.320391Z",
     "iopub.status.busy": "2021-08-13T20:27:05.319661Z",
     "iopub.status.idle": "2021-08-13T20:27:05.326075Z",
     "shell.execute_reply": "2021-08-13T20:27:05.326743Z",
     "shell.execute_reply.started": "2021-08-13T20:26:05.910892Z"
    },
    "papermill": {
     "duration": 0.034075,
     "end_time": "2021-08-13T20:27:05.326980",
     "exception": false,
     "start_time": "2021-08-13T20:27:05.292905",
     "status": "completed"
    },
    "tags": []
   },
   "outputs": [
    {
     "name": "stdout",
     "output_type": "stream",
     "text": [
      "\t Training_Acc \t \t Testing_Acc\n",
      "0 \t 76.0586319218241 \t 75.32467532467533\n",
      "1 \t 75.2442996742671 \t 74.67532467532467\n",
      "2 \t 73.9413680781759 \t 81.16883116883116\n",
      "3 \t 77.72357723577235 \t 71.89542483660131\n",
      "4 \t 76.7479674796748 \t 73.20261437908496\n",
      "Av \t 75.94316887794285 \t 75.25337407690348\n"
     ]
    }
   ],
   "source": [
    "ave_train_acc = 0\n",
    "ave_test_acc = 0\n",
    "\n",
    "print(\"\\t\",\"Training_Acc\",\"\\t\",\"\\t\", \"Testing_Acc\")\n",
    "\n",
    "for i in range(num_splits):\n",
    "    print(i,\"\\t\", train_accs[i],\"\\t\", test_accs[i])\n",
    "    \n",
    "    ave_train_acc+= train_accs[i]/num_splits\n",
    "    ave_test_acc+= test_accs[i]/num_splits\n",
    "    \n",
    "print(\"Av\", \"\\t\", ave_train_acc,\"\\t\", ave_test_acc)"
   ]
  }
 ],
 "metadata": {
  "kernelspec": {
   "display_name": "Python 3",
   "language": "python",
   "name": "python3"
  },
  "language_info": {
   "codemirror_mode": {
    "name": "ipython",
    "version": 3
   },
   "file_extension": ".py",
   "mimetype": "text/x-python",
   "name": "python",
   "nbconvert_exporter": "python",
   "pygments_lexer": "ipython3",
   "version": "3.7.10"
  },
  "papermill": {
   "default_parameters": {},
   "duration": 12.844504,
   "end_time": "2021-08-13T20:27:06.915884",
   "environment_variables": {},
   "exception": null,
   "input_path": "__notebook__.ipynb",
   "output_path": "__notebook__.ipynb",
   "parameters": {},
   "start_time": "2021-08-13T20:26:54.071380",
   "version": "2.3.3"
  }
 },
 "nbformat": 4,
 "nbformat_minor": 5
}
